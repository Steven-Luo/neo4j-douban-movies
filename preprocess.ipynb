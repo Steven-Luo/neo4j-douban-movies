{
 "cells": [
  {
   "cell_type": "code",
   "execution_count": 1,
   "metadata": {},
   "outputs": [],
   "source": [
    "import json"
   ]
  },
  {
   "cell_type": "code",
   "execution_count": 2,
   "metadata": {},
   "outputs": [],
   "source": [
    "data = json.load(open('data/dbmovies.json'))"
   ]
  },
  {
   "cell_type": "code",
   "execution_count": 5,
   "metadata": {},
   "outputs": [],
   "source": [
    "# 整理点边关系\n",
    "# nodes\n",
    "persons = []\n",
    "categories = []\n",
    "languages = []\n",
    "movies = []\n",
    "districts = []\n",
    "\n",
    "# relations\n",
    "acted_in = []\n",
    "categorized_to = []\n",
    "directed = []\n",
    "composed = []\n",
    "released_in = []\n",
    "has_main_language = []\n",
    "\n",
    "for item in data:\n",
    "    for key in ('composer', 'category', 'language', 'actor', 'director'):\n",
    "        if item[key] is None:\n",
    "            item[key] = []\n",
    "    \n",
    "    persons.extend(item['director'])\n",
    "    persons.extend(item['actor'])\n",
    "    persons.extend(item['composer'])\n",
    "    \n",
    "    languages.extend(item['language'])\n",
    "    districts.extend(item['district'])\n",
    "    categories.extend(item['category'])\n",
    "    \n",
    "    movies.append({\n",
    "        'id': item['id'],\n",
    "        'title': item['title'],\n",
    "        'url': item['url'],\n",
    "        'cover': item['cover'],\n",
    "        'rate': item['rate'],\n",
    "        'showtime': int(item['showtime']) if item['showtime'] is not None else None,\n",
    "        'length': int(item['length']) if item['length'] is not None else None,\n",
    "        'othername': item['othername']\n",
    "    })\n",
    "    # 导演\n",
    "    for director in item['director']:\n",
    "        directed.append({\n",
    "            'movie_id': item['id'],\n",
    "            'director': director\n",
    "        })\n",
    "    # 编剧\n",
    "    for composer in item['composer']:\n",
    "        composed.append({\n",
    "            'movie_id': item['id'],\n",
    "            'composer': composer\n",
    "        })\n",
    "    # 出演\n",
    "    for actor in item['actor']:\n",
    "        acted_in.append({\n",
    "            'movie_id': item['id'],\n",
    "            'actor': actor\n",
    "        })\n",
    "    # 类型\n",
    "    for category in item['category']:\n",
    "        categorized_to.append({\n",
    "            'movie_id': item['id'],\n",
    "            'category': category\n",
    "        })\n",
    "    # 上映地区\n",
    "    for region in item['district']:\n",
    "        released_in.append({\n",
    "            'movie_id': item['id'],\n",
    "            'region': region\n",
    "        })\n",
    "    # 主要语言\n",
    "    for language in item['language']:\n",
    "        has_main_language.append({\n",
    "            'movie_id': item['id'],\n",
    "            'language': language\n",
    "        })"
   ]
  },
  {
   "cell_type": "code",
   "execution_count": 4,
   "metadata": {},
   "outputs": [],
   "source": [
    "import os\n",
    "import pandas as pd\n",
    "\n",
    "os.makedirs('outputs', exist_ok=True)"
   ]
  },
  {
   "cell_type": "code",
   "execution_count": 11,
   "metadata": {},
   "outputs": [],
   "source": [
    "# 输出结果        \n",
    "# nodes\n",
    "for item in [\n",
    "    ('persons', persons),\n",
    "    ('categories', categories),\n",
    "    ('languages', languages),\n",
    "    ('movies', movies),\n",
    "    ('districts', districts)\n",
    "]:\n",
    "    if item[0] == 'movies':\n",
    "        pd.DataFrame(item[1]).to_csv(os.path.join('outputs', item[0] + '.csv'), index=False)\n",
    "    else:\n",
    "        pd.DataFrame(set(item[1]), columns=['name']).to_csv(os.path.join('outputs', item[0] + '.csv'), index=False)\n",
    "\n",
    "# relations\n",
    "for rel in [\n",
    "    ('acted_in', acted_in),\n",
    "    ('categorized_to', categorized_to),\n",
    "    ('directed', directed),\n",
    "    ('composed', composed),\n",
    "    ('released_in', released_in),\n",
    "    ('has_main_language', has_main_language),\n",
    "]:\n",
    "    pd.DataFrame(rel[1]).to_csv(os.path.join('outputs', rel[0].upper() + '.csv'), index=False)"
   ]
  },
  {
   "cell_type": "code",
   "execution_count": null,
   "metadata": {},
   "outputs": [],
   "source": []
  }
 ],
 "metadata": {
  "kernelspec": {
   "display_name": "base",
   "language": "python",
   "name": "python3"
  },
  "language_info": {
   "codemirror_mode": {
    "name": "ipython",
    "version": 3
   },
   "file_extension": ".py",
   "mimetype": "text/x-python",
   "name": "python",
   "nbconvert_exporter": "python",
   "pygments_lexer": "ipython3",
   "version": "3.11.4"
  }
 },
 "nbformat": 4,
 "nbformat_minor": 2
}
